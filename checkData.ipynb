{
 "cells": [
  {
   "cell_type": "code",
   "execution_count": 8,
   "metadata": {},
   "outputs": [],
   "source": [
    "import pandas as pd\n",
    "import numpy as np"
   ]
  },
  {
   "cell_type": "code",
   "execution_count": 11,
   "metadata": {},
   "outputs": [
    {
     "name": "stdout",
     "output_type": "stream",
     "text": [
      "['BD-210397' 'CI Tau' 'DMPP-1' 'DMPP-2' 'GJ 160.2' 'GJ 163' 'GJ 2056'\n",
      " 'GJ 9404' 'HAT-P-11' 'HAT-P-2' 'HATS-50' 'HATS-51' 'HD 102329'\n",
      " 'HD 103949' 'HD 114783' 'HD 116029' 'HD 132563' 'HD 140901' 'HD 14787'\n",
      " 'HD 158259' 'HD 177565' 'HD 180053' 'HD 185269' 'HD 190360' 'HD 206255'\n",
      " 'HD 206610' 'HD 207832' 'HD 210193' 'HD 211970' 'HD 21411' 'HD 215497'\n",
      " 'HD 24085' 'HD 27894' 'HD 39091' 'HD 39855' 'HD 47186' 'HD 4917'\n",
      " 'HD 64114' 'HD 72490' 'HD 73526' 'HD 94834' 'HIP 107772' 'HIP 35173'\n",
      " 'HIP 38594' 'HIP 4845' 'HIP 48714' 'NGC 2682 Sand 978' 'NGC 2682 YBP 401'\n",
      " 'TOI-2420' 'TOI-2485' 'V1298 Tau' 'alf Ari' 'bet Pic' 'gam1 Leo']\n"
     ]
    }
   ],
   "source": [
    "planets = pd.read_csv(\"./data/gasGiantData.csv\")\n",
    "print(np.unique(planets.loc[pd.isna(planets[\"st_met\"])][\"hostname\"]))"
   ]
  },
  {
   "cell_type": "code",
   "execution_count": null,
   "metadata": {},
   "outputs": [],
   "source": []
  }
 ],
 "metadata": {
  "kernelspec": {
   "display_name": "py310",
   "language": "python",
   "name": "python3"
  },
  "language_info": {
   "codemirror_mode": {
    "name": "ipython",
    "version": 3
   },
   "file_extension": ".py",
   "mimetype": "text/x-python",
   "name": "python",
   "nbconvert_exporter": "python",
   "pygments_lexer": "ipython3",
   "version": "3.10.16"
  }
 },
 "nbformat": 4,
 "nbformat_minor": 2
}
